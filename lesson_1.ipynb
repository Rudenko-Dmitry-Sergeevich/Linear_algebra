{
 "cells": [
  {
   "cell_type": "markdown",
   "id": "97059727-a01d-4082-a918-789b819a340a",
   "metadata": {},
   "source": [
    "# Урок 1. Часть 1"
   ]
  },
  {
   "cell_type": "markdown",
   "id": "633f164d-278b-4c8e-b9ad-0d7930430020",
   "metadata": {},
   "source": [
    "__1.__ Исследовать на линейную зависимость:\n",
    "\n",
    "$$f_{1}(x)=e^{x}, f_{2}(x)=1, f_{3}(x)=x+1, f_{4}(x)=x-e^{x}.$$"
   ]
  },
  {
   "cell_type": "markdown",
   "id": "0864844e-8d42-49c6-b427-6d32a93d1c05",
   "metadata": {},
   "source": [
    "__Решение:__\n",
    "$$x-e^{x\\ }=\\left(x+1\\right)-\\left(1\\right)-\\left(e^{x}\\right)$$\n",
    "$$f_{4}\\left(x\\right)=f_{3}\\left(x\\right)-f_{2}\\left(x\\right)-f_{1}\\left(x\\right)$$\n",
    "Векторы линейно зависимы, так как $f_{4}$ можно выразить через линейную комбинацию."
   ]
  },
  {
   "cell_type": "markdown",
   "id": "775d45e4-a4b1-4dc0-8e4c-299fae7f06a4",
   "metadata": {},
   "source": [
    "__2.__ Исследовать на линейную зависимость:\n",
    "$$f_{1}(x)=2, f_{2}(x)=x, f_{3}(x)=x^{2}, f_{4}(x)=(x+1)^{2}$$"
   ]
  },
  {
   "cell_type": "markdown",
   "id": "7e10e170-74bd-480f-bfa9-2760067b8d32",
   "metadata": {},
   "source": [
    "__Решение:__\n",
    "$$f_{4}\\left(x\\right)=f_{3}\\left(x\\right)+2f_{2}\\left(x\\right)+\\frac{1}{2}f_{1}\\left(x\\right)$$\n",
    "$f_{3}\\left(x\\right)$ - комбинация векторов $f_{3}\\left(x\\right),\\ f_{2}\\left(x\\right),\\ f_{1}\\left(x\\right)$, из чего можно сделать вывод, что они линейно завиимы."
   ]
  },
  {
   "cell_type": "markdown",
   "id": "3ebae678-8c31-487d-9392-1e7c16490e39",
   "metadata": {},
   "source": [
    "__3.__ Найти координаты вектора $x = (2, 3, 5)\\in \\mathbb{R}^{3}$ в базисе $b_{1}=(0, 0, 10)$, $b_{2}=(2, 0, 0)$, $b_{3}=(0, 1, 0)$."
   ]
  },
  {
   "cell_type": "markdown",
   "id": "f217d1b6-cf56-4247-a65a-0b73c0ec08e8",
   "metadata": {},
   "source": [
    "__Решение:__\n",
    "$$x=\\left(2,3,5\\right)=\\left(2,0,0\\right)+\\left(0,3,0\\right)+\\left(0,0,5\\right)=\\frac{1}{2}\\left(0,0,10\\right)+\\left(2,0,0\\right)+3\\left(0,1,0\\right)=\\frac{1}{2}b_{1}+b_{2}+3b_{3}=\\left(\\frac{1}{2},1,3\\right)$$"
   ]
  },
  {
   "cell_type": "markdown",
   "id": "dd25a710-2331-4bbf-b0b5-ecab2ab0f949",
   "metadata": {},
   "source": [
    "__4.__ Найти координаты вектора $3x^{2}-2x+2\\in\\mathbb{R}^{3}[x]$:\n",
    "\n",
    "а) в базисе $1$, $x$, $x^{2}$;\n",
    "\n",
    "б) в базисе $x^{2}$, $x-1$, $1$."
   ]
  },
  {
   "cell_type": "markdown",
   "id": "0569cba4-3521-4a8d-b028-915fe54f81fc",
   "metadata": {},
   "source": [
    "__Решение:__\n",
    "\n",
    "а) $2\\left(1\\right)-2\\left(x\\right)+3\\left(x^{2}\\right)$&nbsp; &nbsp; &nbsp; &nbsp;$\\left(2,-2,3\\right)$\n",
    "\n",
    "б) $3x^{2}-2x+4-2$&nbsp; &nbsp; &nbsp; &nbsp;$3x^{2}-2\\left(x-1\\right)+0$&nbsp; &nbsp; &nbsp; &nbsp;$\\left(3,-2,0\\right)$"
   ]
  },
  {
   "cell_type": "markdown",
   "id": "1ba3d71e-9615-480e-9e03-cd20fc19f9ff",
   "metadata": {},
   "source": [
    "__5.__ Установить, является ли линейным подпространством:\n",
    "\n",
    "а) совокупность всех векторов трехмерного пространства, у которых по крайней мере одна из первых двух координат равна нулю;\n",
    "    \n",
    "б) все векторы, являющиеся линейными комбинациями данных векторов $\\{u_{1}, u_{2}, \\ldots, u_{n}\\}$."
   ]
  },
  {
   "cell_type": "markdown",
   "id": "cee31f20-12a1-4028-a610-a4637dd7ae7d",
   "metadata": {},
   "source": [
    "__Решение:__\n",
    "\n",
    "а) Не является линейным подпространством, так как сумма векторов не будет содержать множество, состоящее из одного нулевого элемента.\n",
    "\n",
    "б) \n",
    "$$a=\\lambda_{1}u_{1}+\\lambda_{2}u_{2}+...+\\lambda_{n}u_{n}$$\n",
    "$$b=\\mu_{1}u_{1}+\\mu_{2}u_{2}+...+\\mu_{n}u_{n}$$\n",
    "$$a+b=(\\lambda_{1}+\\mu_{1})u_{1}+(\\lambda_{2}+\\mu_{2})u_{2}+...+(\\lambda_{n}+\\mu_{n})u_{n}$$\n",
    "$$\\alpha*a=\\alpha\\lambda_{1}u_{1}+\\alpha\\lambda_{2}u_{2}+...+\\alpha\\lambda_{n}u_{n}$$\n",
    "$$\\beta*b=\\beta\\mu_{1}u_{1}+\\beta\\mu_{2}u_{2}+...+\\beta\\mu_{n}u_{n}$$\n",
    "Сумма и умножение на константу так же является линейными комбинациями данных векторов. Условия выполняются.\n",
    "\n",
    "\n"
   ]
  },
  {
   "cell_type": "markdown",
   "id": "0974c654-a84f-409b-b5e4-6d27a083fd46",
   "metadata": {},
   "source": [
    "# Урок 1. Часть 2"
   ]
  },
  {
   "cell_type": "markdown",
   "id": "0052589e-6506-43b7-a1e2-538ceca49ee8",
   "metadata": {},
   "source": [
    "__1.__ Найти скалярное произведение векторов $x, y \\in \\mathbb{R}$:<br>\n",
    "а) $x=(0,-3, 6),~y=(-4, 7, 9);$<br>\n",
    "б) $x=(7, -4, 0, 1),~y=(-3, 1, 11, 2).$\n"
   ]
  },
  {
   "cell_type": "markdown",
   "id": "1fdc53dd-bc1c-466f-b12a-e4b1a1fa1685",
   "metadata": {},
   "source": [
    "__Решение:__"
   ]
  },
  {
   "cell_type": "code",
   "execution_count": 4,
   "id": "b967384c-d2a7-4f5c-96ec-f66bbd666f1f",
   "metadata": {},
   "outputs": [
    {
     "name": "stdout",
     "output_type": "stream",
     "text": [
      "а) Скалярное произведение x и y: 33\n"
     ]
    }
   ],
   "source": [
    "import numpy as np\n",
    "x = np.array([0, -3, 6])\n",
    "y = np.array([-4, 7,9])\n",
    "print(f'а) Скалярное произведение x и y: {x @ y}')"
   ]
  },
  {
   "cell_type": "code",
   "execution_count": 5,
   "id": "532a3456-8917-4f71-9ecf-27e7059f2922",
   "metadata": {},
   "outputs": [
    {
     "name": "stdout",
     "output_type": "stream",
     "text": [
      "б) Скалярное произведение x и y: -23\n"
     ]
    }
   ],
   "source": [
    "import numpy as np\n",
    "x = np.array([7, -4, 0, 1])\n",
    "y = np.array([-3, 1, 11, 2])\n",
    "print(f'б) Скалярное произведение x и y: {x @ y}')"
   ]
  },
  {
   "cell_type": "markdown",
   "id": "bb012a1e-cd67-454c-b5fc-a829c896026c",
   "metadata": {},
   "source": [
    "__2.__ Найти нормы векторов $(4, 2, 4)$ и $(12, 3, 4)$ и угол между ними."
   ]
  },
  {
   "cell_type": "markdown",
   "id": "6cb84a18-cc32-4ec4-a713-149293bb49d8",
   "metadata": {},
   "source": [
    "__Решение:__"
   ]
  },
  {
   "cell_type": "code",
   "execution_count": 11,
   "id": "e779c74b-ef6c-4e35-bfea-502439933016",
   "metadata": {},
   "outputs": [
    {
     "name": "stdout",
     "output_type": "stream",
     "text": [
      "Манхетовская норма вектора a: 10.0\n",
      "Манхетовская норма вектора b: 19.0\n",
      "Евклидова норма вектора а:6.0\n",
      "Евклидова норма вектора b:13.0\n",
      "cos векторов a и b: 0.8974358974358975\n",
      "угол векторов a и b: 26.176952171666542\n"
     ]
    }
   ],
   "source": [
    "from numpy.linalg import norm\n",
    "import math\n",
    "a = np.array([4,2,4])\n",
    "b = np.array([12,3,4])\n",
    "print(f'Манхетовская норма вектора a: {norm(a, ord=1)}')\n",
    "print(f'Манхетовская норма вектора b: {norm(b, ord=1)}')\n",
    "print(f'Евклидова норма вектора а:{norm(a, ord=2)}')\n",
    "print(f'Евклидова норма вектора b:{norm(b, ord=2)}')\n",
    "print(f'cos векторов a и b: {(a @ b)/(np.dot(norm(a, ord=2), norm(b, ord=2)))}')\n",
    "print(f'угол векторов a и b: {math.acos((a @ b)/(np.dot(norm(a, ord=2), norm(b, ord=2))))*(180/np.pi)}')"
   ]
  },
  {
   "cell_type": "markdown",
   "id": "103be477-95d2-4226-b3b7-50e746847b8c",
   "metadata": {},
   "source": [
    "Mанхэттенская норма вектора a:\n",
    "$$\\left\\|x\\right\\|_{1} = |4|+|2|+|4|=10.$$\n",
    "Mанхэттенская норма вектора b:\n",
    "$$\\left\\|x\\right\\|_{1} = |4|+|2|+|4|=19.$$"
   ]
  },
  {
   "cell_type": "markdown",
   "id": "0f7bbd44-b2a8-4e28-b6fe-4d88e57380ac",
   "metadata": {},
   "source": [
    "Eвклидова норма вектора a:\n",
    "\n",
    "$$\\left\\|x\\right\\|_{2} = \\sqrt{4^{2}+2^{2}+4^{2}}=\\sqrt{36}.$$\n",
    "\n",
    "Eвклидова норма вектора b:\n",
    "\n",
    "$$\\left\\|x\\right\\|_{2} = \\sqrt{12^{2}+3^{2}+4^{2}}=\\sqrt{169}.$$"
   ]
  },
  {
   "cell_type": "markdown",
   "id": "d774b19d-c4a1-43a8-a0bd-71d995986cb8",
   "metadata": {},
   "source": [
    "Угол между векторами:\n",
    "$$cos\\varphi = \\frac{4\\cdot12+2\\cdot3+4\\cdot4}{\\sqrt{4^{2}+2^{2}+4^{2}}\\sqrt{12^{2}+3^{2}+4^{2}}}=\\frac{70}{\\sqrt{6084}}\\approx 0.89$$"
   ]
  },
  {
   "cell_type": "markdown",
   "id": "1e00a32e-62ab-48c5-83b7-bdcc2ee5497d",
   "metadata": {},
   "source": [
    "__3.__ Будет ли линейное пространство евклидовым, если за скалярное произведение принять:<br>\n",
    "а) произведение длин векторов;<br>\n",
    "б) утроенное обычное скалярное произведение векторов?<br>"
   ]
  },
  {
   "cell_type": "markdown",
   "id": "abddabe7-2c41-4d70-9f02-f8bf86d9a447",
   "metadata": {},
   "source": [
    "__Ответ:__<br>\n",
    "a) Произведение длин векторов не будет евклидовым пространством, так как не соответтвует второй и третье аксиоме.<br>\n",
    "б) Данный случай соответствует всем аксиомам.<br>"
   ]
  },
  {
   "cell_type": "markdown",
   "id": "004ee899-db39-4948-91f3-37f90465998b",
   "metadata": {},
   "source": [
    "__4.__ Какие из нижеперечисленных векторов образуют ортонормированный базис в линейном пространстве $\\mathbb{R}^{3}$:<br>\n",
    "а) $(1,0,0),(0,0,1);$ <br>\n",
    "б) $(1/\\sqrt{2},-1/\\sqrt{2},0),(1/\\sqrt{2},1/\\sqrt{2},0), (0,0,1);$<br>\n",
    "в) $(1/2, -1/2, 0), (0, 1/2, 1/2), (0,0,1);$<br>\n",
    "г) $(1,0,0),(0,1,0),(0,0,1)?$ \n"
   ]
  },
  {
   "cell_type": "markdown",
   "id": "2f0f3bcb-c363-480a-a139-bfde083a4d66",
   "metadata": {},
   "source": [
    "__Ответ:__<br>\n",
    "а) $(1,0,0),(0,0,1)$ - не хватает одного вектора; <br>\n",
    "б) $(1/\\sqrt{2},-1/\\sqrt{2},0),(1/\\sqrt{2},1/\\sqrt{2},0), (0,0,1)$ - первые два  вектора не являются базисными(скалярное произведение векторов попарно равно нулю и норма каждого вектора должна быть равна 1);<br>\n",
    "в) $(1/2, -1/2, 0), (0, 1/2, 1/2), (0,0,1)$ - первые два  вектора не являются базисными(скалярное произведение векторов попарно равно нулю и норма каждого вектора должна быть равна 1);<br>\n",
    "г) $(1,0,0),(0,1,0),(0,0,1)$ - образует ортонормированный базис в линейном пространстве  $\\mathbb{R}^{3}$. "
   ]
  },
  {
   "cell_type": "code",
   "execution_count": null,
   "id": "572c7dd9-133c-4cdc-b37c-32b05119a5ea",
   "metadata": {},
   "outputs": [],
   "source": []
  }
 ],
 "metadata": {
  "kernelspec": {
   "display_name": "Python 3 (ipykernel)",
   "language": "python",
   "name": "python3"
  },
  "language_info": {
   "codemirror_mode": {
    "name": "ipython",
    "version": 3
   },
   "file_extension": ".py",
   "mimetype": "text/x-python",
   "name": "python",
   "nbconvert_exporter": "python",
   "pygments_lexer": "ipython3",
   "version": "3.9.12"
  }
 },
 "nbformat": 4,
 "nbformat_minor": 5
}
